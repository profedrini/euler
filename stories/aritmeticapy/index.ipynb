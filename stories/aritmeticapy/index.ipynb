{
 "cells": [
  {
   "cell_type": "markdown",
   "metadata": {},
   "source": [
    "# aritmética.py\n",
    "\n",
    "\n",
    "Muchos problemas del proyecto Euler involucran funciones aritméticas (determinar si un número es primo, encontrar su factorización,  calcular el número de divisores, etcétera).\n",
    "\n",
    "Por ello, implemento una librería para funciones aritméticas.\n",
    "\n",
    "* Principios: En caso de ser posible, preferir usar ram/memoria a ciclos de cpu.\n",
    "* Corolario: Almacenar valores calculados para evitar calcularlos de nuevo.\n",
    "\n",
    "Para cada $x\\le 10^3$.\n",
    "\n",
    "El objetivo de este documento es discutir algunas de las funciones que se encuentran en dicho archivo.\n",
    "Primero importamos un par de librerías."
   ]
  },
  {
   "cell_type": "code",
   "execution_count": null,
   "metadata": {
    "collapsed": true
   },
   "outputs": [],
   "source": []
  }
 ],
 "metadata": {
  "kernelspec": {
   "display_name": "Python 3",
   "language": "python",
   "name": "python3"
  },
  "language_info": {
   "codemirror_mode": {
    "name": "ipython",
    "version": 3
   },
   "file_extension": ".py",
   "mimetype": "text/x-python",
   "name": "python",
   "nbconvert_exporter": "python",
   "pygments_lexer": "ipython3",
   "version": "3.4.1"
  },
  "nikola": {
   "category": "",
   "date": "2015-09-01 18:31:17 UTC",
   "description": "",
   "link": "",
   "slug": "aritmeticapy",
   "tags": "",
   "title": "aritmetica.py",
   "type": "text"
  }
 },
 "nbformat": 4,
 "nbformat_minor": 0
}
