{
 "cells": [
  {
   "cell_type": "markdown",
   "metadata": {},
   "source": [
    "# aritmética.py\n",
    "\n",
    "[Versión en GitHub](https://github.com/profedrini/euler/blob/master/aritmetica.py)\n",
    "\n",
    "Muchos problemas del proyecto Euler involucran funciones aritméticas (determinar si un número es primo, encontrar su factorización,  calcular el número de divisores, etcétera).\n",
    "\n",
    "Por ello, implemento una librería para funciones aritméticas.\n",
    "\n",
    "* Principios: En caso de ser posible, preferir usar ram/memoria a ciclos de cpu.\n",
    "* Corolario: Almacenar valores calculados para evitar calcularlos de nuevo.\n",
    "\n",
    "El objetivo de este documento es discutir algunas de las funciones que se encuentran en dicho archivo.\n",
    "\n",
    "En lo posible haremos uso de las siguientes librerías estándar"
   ]
  },
  {
   "cell_type": "code",
   "execution_count": 2,
   "metadata": {
    "collapsed": true
   },
   "outputs": [],
   "source": [
    "import itertools\n",
    "import math"
   ]
  },
  {
   "cell_type": "markdown",
   "metadata": {},
   "source": [
    "Como base de todo nuestro proceso, generamos una lista con los números primos hasta cierto valor. Aunque en la versión final de la librería, simplemente cargamos la lista directamente en código."
   ]
  },
  {
   "cell_type": "code",
   "execution_count": 11,
   "metadata": {
    "collapsed": false
   },
   "outputs": [
    {
     "name": "stdout",
     "output_type": "stream",
     "text": [
      "[(2, 0), (3, 0), (4, 0), (4, 1), (5, 0), (5, 1), (6, 0), (6, 1), (6, 2), (7, 0), (7, 1), (7, 2), (8, 0), (8, 1), (8, 2), (8, 3), (9, 0), (9, 1), (9, 2), (9, 3), (10, 0), (10, 1), (10, 2), (10, 3), (10, 4), (11, 0), (11, 1), (11, 2), (11, 3), (11, 4), (12, 0), (12, 1), (12, 2), (12, 3), (12, 4), (12, 5), (13, 0), (13, 1), (13, 2), (13, 3), (13, 4), (13, 5), (14, 0), (14, 1), (14, 2), (14, 3), (14, 4), (14, 5), (14, 6), (15, 0), (15, 1), (15, 2), (15, 3), (15, 4), (15, 5), (15, 6), (16, 0), (16, 1), (16, 2), (16, 3), (16, 4), (16, 5), (16, 6), (16, 7), (17, 0), (17, 1), (17, 2), (17, 3), (17, 4), (17, 5), (17, 6), (17, 7), (18, 0), (18, 1), (18, 2), (18, 3), (18, 4), (18, 5), (18, 6), (18, 7), (18, 8), (19, 0), (19, 1), (19, 2), (19, 3), (19, 4), (19, 5), (19, 6), (19, 7), (19, 8)]\n"
     ]
    }
   ],
   "source": [
    "L=[(n,d) for n in range(20) for d in range(n//2)]\n",
    "print(L)"
   ]
  },
  {
   "cell_type": "code",
   "execution_count": null,
   "metadata": {
    "collapsed": true
   },
   "outputs": [],
   "source": []
  }
 ],
 "metadata": {
  "celltoolbar": "Raw Cell Format",
  "kernelspec": {
   "display_name": "Python 3",
   "language": "python",
   "name": "python3"
  },
  "language_info": {
   "codemirror_mode": {
    "name": "ipython",
    "version": 3
   },
   "file_extension": ".py",
   "mimetype": "text/x-python",
   "name": "python",
   "nbconvert_exporter": "python",
   "pygments_lexer": "ipython3",
   "version": "3.4.1"
  },
  "nikola": {
   "category": "",
   "date": "2015-09-01 18:31:17 UTC",
   "description": "",
   "link": "",
   "slug": "aritmeticapy",
   "tags": "",
   "title": "aritmetica.py",
   "type": "text"
  }
 },
 "nbformat": 4,
 "nbformat_minor": 0
}
