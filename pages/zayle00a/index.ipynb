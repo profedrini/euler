{
 "cells": [
  {
   "cell_type": "markdown",
   "metadata": {},
   "source": [
    "# Triangulares y cuadrados\n",
    "\n",
    "Determina todos los números triangulares que también sean cuadrados perfectos, entre $1$ y $10^{14}$."
   ]
  },
  {
   "cell_type": "markdown",
   "metadata": {},
   "source": [
    "Dado que $1+2+\\cdots + n = \\frac{n(n+1)}{2}$ y $n, n+1$ son primos relativos, si $\\frac{n(n+1)}{2}$ es un cuadrado, necesariamente el factor impar ($n$ o $n+1$ ) debe ser un cuadrado y $\\frac{n}{2}$ también. \n",
    "\n",
    "Basta entonces verificar cada cuadrado impar menor que $10^{14}$ en la posición $n$ y en la posición $n+1$ y luego verificar que el otro es de la forma $2k^2$."
   ]
  },
  {
   "cell_type": "code",
   "execution_count": 1,
   "metadata": {
    "collapsed": true
   },
   "outputs": [],
   "source": [
    "import math\n",
    "def SideCheck(m):\n",
    "    '''Determina si m es de la forma 2k^2 '''\n",
    "    if m%8 != 0 and m%8 !=2: return False\n",
    "    # Como los residuos cuadráticos módulo 8 son 0,1,4,  \n",
    "    # entonces el doble de un residuo cuadrático sólo\n",
    "    # puede ser 0, 2, descartando casos sin necesidad \n",
    "    # de sacar raíz cuadrada\n",
    "    \n",
    "    r=int(math.sqrt(m//2))\n",
    "    if r*r!=m/2: return False\n",
    "    return True"
   ]
  },
  {
   "cell_type": "code",
   "execution_count": 2,
   "metadata": {
    "collapsed": false
   },
   "outputs": [
    {
     "name": "stdout",
     "output_type": "stream",
     "text": [
      "\n",
      " 19\n",
      "CPU times: user 12.7 s, sys: 2 ms, total: 12.7 s\n",
      "Wall time: 12.7 s\n"
     ]
    }
   ],
   "source": [
    "%%time\n",
    "MAXN = 10**7\n",
    "count=1  # El caso 1=1^2 es aparte\n",
    "for a in range(3,MAXN,2):\n",
    "    # Caso a^2 = n+1, par\n",
    "    if SideCheck(a*a-1):\n",
    "        count=count+1\n",
    "        #print(a*a-1)\n",
    "    # Caso a^2 = n, impar\n",
    "    if SideCheck(a*a+1):\n",
    "        count=count+1\n",
    "        #print(a*a)\n",
    "print(\"\\n\",count)"
   ]
  },
  {
   "cell_type": "code",
   "execution_count": null,
   "metadata": {
    "collapsed": true
   },
   "outputs": [],
   "source": []
  }
 ],
 "metadata": {
  "kernelspec": {
   "display_name": "Python 3",
   "language": "python",
   "name": "python3"
  },
  "language_info": {
   "codemirror_mode": {
    "name": "ipython",
    "version": 3
   },
   "file_extension": ".py",
   "mimetype": "text/x-python",
   "name": "python",
   "nbconvert_exporter": "python",
   "pygments_lexer": "ipython3",
   "version": "3.4.1"
  }
 },
 "nbformat": 4,
 "nbformat_minor": 0
}
