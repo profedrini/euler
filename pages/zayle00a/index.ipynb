{
 "cells": [
  {
   "cell_type": "markdown",
   "metadata": {},
   "source": [
    "# Triangulares y cuadrados\n",
    "\n",
    "Determina todos los números triangulares que también sean cuadrados perfectos, entre $1$ y $10^{14}$."
   ]
  },
  {
   "cell_type": "markdown",
   "metadata": {},
   "source": [
    "Dado que $1+2+\\cdots + n = \\frac{n(n+1)}{2}$ y $n, n+1$ son primos relativos, si $\\frac{n(n+1)}{2}$ es un cuadrado, necesariamente el factor impar ($n$ o $n+1$ ) debe ser un cuadrado y $\\frac{n}{2}$ también. \n",
    "\n",
    "Basta entonces verificar cada cuadrado impar menor que $10^{14}$ en la posición $n$ y en la posición $n+1$ y luego verificar que el otro es de la forma $2k^2$."
   ]
  },
  {
   "cell_type": "code",
   "execution_count": 32,
   "metadata": {
    "collapsed": true
   },
   "outputs": [],
   "source": [
    "import math\n",
    "def SideCheck(m):\n",
    "    ''' Determina si m es de la forma 2k^2 '''\n",
    "    r=math.sqrt(m//2)\n",
    "    if r-math.floor(r)>0: return 0\n",
    "    return 1"
   ]
  },
  {
   "cell_type": "code",
   "execution_count": 37,
   "metadata": {
    "collapsed": false
   },
   "outputs": [
    {
     "name": "stdout",
     "output_type": "stream",
     "text": [
      "19\n",
      "CPU times: user 9.09 s, sys: 3 ms, total: 9.09 s\n",
      "Wall time: 9.08 s\n"
     ]
    }
   ],
   "source": [
    "%%time\n",
    "MAXN = 10**7\n",
    "count=1  + sum([SideCheck(a2+1) or Side])\n",
    "\n",
    "for a in range(3,MAXN,2):\n",
    "    a2 = a*a\n",
    "    if SideCheck(a2+1) or SideCheck(a2-1):\n",
    "        count=count+1\n",
    "print(count)"
   ]
  },
  {
   "cell_type": "code",
   "execution_count": 34,
   "metadata": {
    "collapsed": false
   },
   "outputs": [
    {
     "name": "stdout",
     "output_type": "stream",
     "text": [
      "19\n",
      "CPU times: user 9.5 s, sys: 0 ns, total: 9.5 s\n",
      "Wall time: 9.49 s\n"
     ]
    }
   ],
   "source": [
    "%%time\n",
    "MAXN = 10**7\n",
    "count=1 \n",
    "for a in range(3,MAXN,2):\n",
    "    a2=a*a\n",
    "    if SideCheck(a2-1):\n",
    "        count=count+1 \n",
    "    else:\n",
    "        count=count+ SideCheck(a2+1)\n",
    "print(count)"
   ]
  },
  {
   "cell_type": "code",
   "execution_count": null,
   "metadata": {
    "collapsed": true
   },
   "outputs": [],
   "source": []
  }
 ],
 "metadata": {
  "kernelspec": {
   "display_name": "Python 3",
   "language": "python",
   "name": "python3"
  },
  "language_info": {
   "codemirror_mode": {
    "name": "ipython",
    "version": 3
   },
   "file_extension": ".py",
   "mimetype": "text/x-python",
   "name": "python",
   "nbconvert_exporter": "python",
   "pygments_lexer": "ipython3",
   "version": "3.4.1"
  }
 },
 "nbformat": 4,
 "nbformat_minor": 0
}
