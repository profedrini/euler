{
 "cells": [
  {
   "cell_type": "markdown",
   "metadata": {},
   "source": [
    "# Triangulares y cuadrados\n",
    "\n",
    "Determina todos los números triangulares que también sean cuadrados perfectos, entre $1$ y $10^{14}$."
   ]
  },
  {
   "cell_type": "markdown",
   "metadata": {},
   "source": [
    "Dado que $1+2+\\cdots + n = \\frac{n(n+1)}{2}$ y $n, n+1$ son primos relativos, si $\\frac{n(n+1)}{2}$ es un cuadrado, necesariamente el factor impar ($n$ o $n+1$ ) debe ser un cuadrado y $\\frac{n}{2}$ también. \n",
    "\n",
    "Basta entonces verificar cada cuadrado impar menor que $10^{14}$ en la posición $n$ y en la posición $n+1$ y luego verificar que el otro es de la forma $2k^2$."
   ]
  },
  {
   "cell_type": "code",
   "execution_count": 28,
   "metadata": {
    "collapsed": true
   },
   "outputs": [],
   "source": [
    "import math\n",
    "def SideCheck(m):\n",
    "    '''Determina si m es de la forma 2k^2 '''\n",
    "    if m%8 != 0 and m%8 !=2: return False  #¿\"optimización\" innecesaria?\n",
    "\n",
    "    r=math.sqrt(m//2)\n",
    "    if r-math.floor(r)>0: return False\n",
    "    return True"
   ]
  },
  {
   "cell_type": "code",
   "execution_count": 34,
   "metadata": {
    "collapsed": false
   },
   "outputs": [
    {
     "name": "stdout",
     "output_type": "stream",
     "text": [
      "36\n",
      "1225\n",
      "41616\n",
      "1413721\n",
      "48024900\n",
      "1631432881\n",
      "55420693056\n",
      "1882672131025\n",
      "63955431761796\n",
      "2172602007770041\n",
      "73804512832419600\n",
      "2507180834294496361\n",
      "85170343853180456676\n",
      "2893284510173841030625\n",
      "98286503002057414584576\n",
      "3338847817559778254844961\n",
      "113422539294030403250144100\n",
      "3853027488179473932250054441\n",
      "\n",
      " 19\n",
      "CPU times: user 9.36 s, sys: 6 ms, total: 9.37 s\n",
      "Wall time: 9.36 s\n"
     ]
    }
   ],
   "source": [
    "%%time\n",
    "MAXN = 10**7\n",
    "count=1  # El caso 1=1^2 es aparte\n",
    "for a in range(3,MAXN,2):\n",
    "    a2 = a*a\n",
    "    if SideCheck(a2-1):\n",
    "        count=count+1\n",
    "        print(a2*(a2-1)//2, )\n",
    "    if SideCheck(a*a+1):\n",
    "        print(a2*(a2+1)//2)\n",
    "        count=count+1\n",
    "print(\"\\n\",count)"
   ]
  },
  {
   "cell_type": "code",
   "execution_count": null,
   "metadata": {
    "collapsed": true
   },
   "outputs": [],
   "source": []
  }
 ],
 "metadata": {
  "kernelspec": {
   "display_name": "Python 3",
   "language": "python",
   "name": "python3"
  },
  "language_info": {
   "codemirror_mode": {
    "name": "ipython",
    "version": 3
   },
   "file_extension": ".py",
   "mimetype": "text/x-python",
   "name": "python",
   "nbconvert_exporter": "python",
   "pygments_lexer": "ipython3",
   "version": "3.4.1"
  }
 },
 "nbformat": 4,
 "nbformat_minor": 0
}
