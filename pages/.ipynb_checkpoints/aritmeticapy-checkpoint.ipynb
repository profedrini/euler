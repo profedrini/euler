{
 "cells": [
  {
   "cell_type": "markdown",
   "metadata": {},
   "source": [
    "# aritmética.py\n",
    "\n",
    "[Versión en GitHub](https://github.com/profedrini/euler/blob/master/aritmetica.py)\n",
    "\n",
    "Muchos problemas del proyecto Euler involucran funciones aritméticas (determinar si un número es primo, encontrar su factorización,  calcular el número de divisores, etcétera).\n",
    "\n",
    "Por ello, implemento una librería para funciones aritméticas.\n",
    "\n",
    "* Principios: En caso de ser posible, preferir usar ram/memoria a ciclos de cpu.\n",
    "* Corolario: Almacenar valores calculados para evitar calcularlos de nuevo.\n",
    "\n",
    "El objetivo de este documento es discutir algunas de las funciones que se encuentran en dicho archivo.\n",
    "\n",
    "En lo posible haremos uso de las siguientes librerías estándar"
   ]
  },
  {
   "cell_type": "code",
   "execution_count": 1,
   "metadata": {
    "collapsed": true
   },
   "outputs": [],
   "source": [
    "import itertools as it\n",
    "import math"
   ]
  },
  {
   "cell_type": "markdown",
   "metadata": {},
   "source": [
    "Como base de todo nuestro proceso, generamos una lista con los números primos hasta cierto valor. Aunque en la versión final de la librería, simplemente cargamos la lista directamente en código, indicamos aquí la posibilidad"
   ]
  },
  {
   "cell_type": "code",
   "execution_count": null,
   "metadata": {
    "collapsed": false
   },
   "outputs": [],
   "source": [
    "%%timeit\n",
    "MAXP=10**6\n",
    "L=[True for n in range(MAXP)]   # En python3, range es un generador, no existe xrange\n",
    "L[0]=False \n",
    "L[1]=False\n",
    "for d in range(2,MAXP//2+1):\n",
    "    if L[d]:   # Si ya descartamos d, ya descartamos a sus múltiplos, sólo se necesita verificar si L[d]=True\n",
    "        for k in it.islice(range(MAXP), 2*d, None, d): L[k]=False\n",
    "Primos=[P[0] for P in enumerate(L) if P[1] ]\n",
    "# print(Primos)"
   ]
  },
  {
   "cell_type": "code",
   "execution_count": null,
   "metadata": {
    "collapsed": false
   },
   "outputs": [],
   "source": [
    "print(L)"
   ]
  },
  {
   "cell_type": "code",
   "execution_count": null,
   "metadata": {
    "collapsed": true
   },
   "outputs": [],
   "source": []
  }
 ],
 "metadata": {
  "celltoolbar": "Raw Cell Format",
  "kernelspec": {
   "display_name": "Python 3",
   "language": "python",
   "name": "python3"
  },
  "language_info": {
   "codemirror_mode": {
    "name": "ipython",
    "version": 3
   },
   "file_extension": ".py",
   "mimetype": "text/x-python",
   "name": "python",
   "nbconvert_exporter": "python",
   "pygments_lexer": "ipython3",
   "version": "3.4.1"
  },
  "nikola": {
   "category": "",
   "date": "2015-09-01 18:31:17 UTC",
   "description": "",
   "link": "",
   "slug": "aritmeticapy",
   "tags": "",
   "title": "aritmetica.py",
   "type": "text"
  }
 },
 "nbformat": 4,
 "nbformat_minor": 0
}
