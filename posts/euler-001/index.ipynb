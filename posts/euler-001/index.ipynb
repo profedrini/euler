{
 "cells": [
  {
   "cell_type": "markdown",
   "metadata": {},
   "source": [
    "# Euler 001\n",
    "\n",
    "Ahora $\\sqrt{x}$"
   ]
  }
 ],
 "metadata": {
  "kernelspec": {
   "display_name": "Python 3",
   "language": "python",
   "name": "python3"
  },
  "language_info": {
   "codemirror_mode": {
    "name": "ipython",
    "version": 3
   },
   "file_extension": ".py",
   "mimetype": "text/x-python",
   "name": "python",
   "nbconvert_exporter": "python",
   "pygments_lexer": "ipython3",
   "version": "3.4.1"
  },
  "nikola": {
   "category": "",
   "date": "2015-09-01 18:38:43 UTC",
   "description": "",
   "link": "",
   "slug": "euler-001",
   "tags": "",
   "title": "Euler 001",
   "type": "text"
  }
 },
 "nbformat": 4,
 "nbformat_minor": 0
}
