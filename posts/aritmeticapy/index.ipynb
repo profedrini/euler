{
 "cells": [
  {
   "cell_type": "markdown",
   "metadata": {},
   "source": [
    "# aritmética.py\n",
    "\n",
    "[TOC] \n",
    "\n",
    "anyway\n",
    "\n",
    "[[TOC]]\n",
    "\n",
    "[Versión en GitHub](https://github.com/profedrini/euler/blob/master/aritmetica.py)\n",
    "\n",
    "Muchos problemas del proyecto Euler involucran funciones aritméticas (determinar si un número es primo, encontrar su factorización,  calcular el número de divisores, etcétera).\n",
    "\n",
    "Por ello, implemento una librería para funciones aritméticas.\n",
    "\n",
    "* Principios: En caso de ser posible, preferir usar ram/memoria a ciclos de cpu.\n",
    "* Corolario: Almacenar valores calculados para evitar calcularlos de nuevo.\n",
    "\n",
    "El objetivo de este documento es discutir algunas de las funciones que se encuentran en dicho archivo.\n",
    "\n",
    "En lo posible haremos uso de las siguientes librerías estándar"
   ]
  },
  {
   "cell_type": "code",
   "execution_count": 1,
   "metadata": {
    "collapsed": true
   },
   "outputs": [],
   "source": [
    "import itertools as it\n",
    "import math"
   ]
  },
  {
   "cell_type": "markdown",
   "metadata": {},
   "source": [
    "Como base de todo nuestro proceso, generamos una lista con los números primos hasta cierto valor. Aunque en la versión final de la librería, simplemente cargamos la lista directamente en código, revisamos de todos modos algunas formas de hacerlo. \n",
    "\n",
    "Por ejemplo, si queremos calcular todos los números primos menores que $10^4$:\n",
    "\n",
    "* Generamos una lista  [0,1,2,3, ..., 9999] e iremos cambiando los valores que no sean primos por cero. \n",
    "* Dado que 1 es un caso especial, lo descartamos manualmente.\n",
    "* Posteriormente, para cada $d\\le \\sqrt{MAXP}$, si L[d]=0, ya hemos determinado que no es primo (y por tanto todos sus múltiplos también). En caso contrario, tenemos un primo y usamos la criba para hacer cero todos sus múltiplos en la lista.\n",
    "  * Esto lo hacemos con itertools.islice, que selecciona los índices 2d, 3d, 4d, ....\n",
    "* Al final, filtramos todos los valores que no se hayan anulado."
   ]
  },
  {
   "cell_type": "code",
   "execution_count": 2,
   "metadata": {
    "collapsed": false
   },
   "outputs": [
    {
     "name": "stdout",
     "output_type": "stream",
     "text": [
      "100 loops, best of 3: 5.92 ms per loop\n"
     ]
    }
   ],
   "source": [
    "%%timeit\n",
    "MAXP=10**4\n",
    "L=[n for n in range(MAXP)]  \n",
    "L[0]=0\n",
    "L[1]=0\n",
    "for d in range(2,int(math.sqrt(MAXP))+1):\n",
    "    if L[d]>0:   # Si ya descartamos d, ya descartamos a sus múltiplos, sólo se necesita verificar si L[d]=True\n",
    "        for k in it.islice(range(MAXP), 2*d, None, d): L[k]=0\n",
    "    #if d*d>MAXP: break\n",
    "Primos=[P for P in L if P>0 ]\n",
    "#print(Primos)"
   ]
  },
  {
   "cell_type": "markdown",
   "metadata": {},
   "source": [
    "Usando el mismo código para hallar todos los primos menores que un millón:"
   ]
  },
  {
   "cell_type": "code",
   "execution_count": 3,
   "metadata": {
    "collapsed": false
   },
   "outputs": [
    {
     "name": "stdout",
     "output_type": "stream",
     "text": [
      "CPU times: user 3.47 s, sys: 21 ms, total: 3.49 s\n",
      "Wall time: 3.49 s\n"
     ]
    }
   ],
   "source": [
    "%%time\n",
    "MAXP=10**6\n",
    "L=[n for n in range(MAXP)]  \n",
    "L[0]=0\n",
    "L[1]=0\n",
    "for d in range(2,int(math.sqrt(MAXP))+1):\n",
    "    if L[d]>0:   # Si ya descartamos d, ya descartamos a sus múltiplos, sólo se necesita verificar si L[d]=True\n",
    "        for k in it.islice(range(MAXP), 2*d, None, d): L[k]=0\n",
    "ListaPrimos=[P for P in L if P>0 ]"
   ]
  },
  {
   "cell_type": "markdown",
   "metadata": {},
   "source": [
    "Toma menos de 10 segundos el hallar todos los primos menores que un millón.\n",
    "\n",
    "## Alternativas\n",
    "Sólo por curiosidad, haremos un intento híbrido: generamos todos los primos menores que $10^3$ y luego los usamos para cribar los números hasta $10^3$:"
   ]
  },
  {
   "cell_type": "code",
   "execution_count": 4,
   "metadata": {
    "collapsed": false
   },
   "outputs": [
    {
     "name": "stdout",
     "output_type": "stream",
     "text": [
      "CPU times: user 3.53 s, sys: 3 ms, total: 3.53 s\n",
      "Wall time: 3.53 s\n"
     ]
    }
   ],
   "source": [
    "%%time\n",
    "MAXP=10**6\n",
    "MEDP=10**3\n",
    "S=[n for n in range(MEDP)]   # En python3, range es un generador, no existe xrange\n",
    "S[0]=0\n",
    "S[1]=0\n",
    "for d in range(2,int(math.sqrt(MEDP))+1):\n",
    "    if S[d]>0:   # Si ya descartamos d, también sus múltiplos, sólo hay que verificar si L[d]=True\n",
    "        for k in it.islice(range(MEDP), 2*d, None, d): S[k]=0\n",
    "S=[p for p in S if p>0 ]\n",
    "L=[n for n in range(MEDP, MAXP)]\n",
    "for p in S:\n",
    "    L = [m for m in L if m%p>0]\n",
    "    \n",
    "ListaPrimos=(S+L)"
   ]
  },
  {
   "cell_type": "markdown",
   "metadata": {},
   "source": [
    "Una tercera posibilidad consiste en ir eliminando de la lista los números que no sean primos, en vez de hacer que sus índices sean iguales a cero y recolectar al final:"
   ]
  },
  {
   "cell_type": "code",
   "execution_count": 5,
   "metadata": {
    "collapsed": false
   },
   "outputs": [
    {
     "name": "stdout",
     "output_type": "stream",
     "text": [
      "CPU times: user 5.44 s, sys: 4 ms, total: 5.45 s\n",
      "Wall time: 5.44 s\n"
     ]
    }
   ],
   "source": [
    "%%time\n",
    "MAXP=10**6\n",
    "L=[2]+[n for n in range(3,MAXP,2)]  \n",
    "for d in range(3,int(math.sqrt(MAXP))+1,2):\n",
    "    if d in L:   # Si ya eliminamos d, ya eliminamos a sus múltiplos, sólo se necesita verificar si L[d]=True\n",
    "        L = [m for m in L if m<=d or m%d>0]\n",
    "ListaPrimos=L"
   ]
  },
  {
   "cell_type": "markdown",
   "metadata": {},
   "source": [
    "La razón por la cual esto es más tardado, probablemente sea que se están copiando y modificando listas, y el manejo de memoria correspondiente lleve más tiempo que simplemente cambiar los valores y modificar listas sólo una vez al final.\n",
    "\n",
    "Dado que no hay una mejora sustancial en las dos versiones, optamos por quedarnos con la versión primera, ya que es más simple.\n",
    "\n",
    "Dado que la verificación de pertenencia es más rápida con un conjunto, creamos paralelamente la versión no ordenada:"
   ]
  },
  {
   "cell_type": "markdown",
   "metadata": {
    "collapsed": true
   },
   "source": [
    "Finalmente, envolvemos todo en una bonita función"
   ]
  },
  {
   "cell_type": "code",
   "execution_count": null,
   "metadata": {
    "collapsed": false
   },
   "outputs": [],
   "source": [
    "#aritmetica.py\n",
    "\n",
    "import itertools as it\n",
    "import math\n",
    "\n",
    "# Inicializa una lista de primos para las demás funciones\n",
    "L=[n for n in range(MAXP)]  \n",
    "L[0]=0\n",
    "L[1]=0\n",
    "for d in range(2,int(math.sqrt(MAXP))+1):\n",
    "    if L[d]>0: for k in it.islice(range(MAXP), 2*d, None, d): L[k]=0\n",
    "\n",
    "\n",
    "ListaPrimos=[P for P in L if P>0 ]\n",
    "ConjuntoPrimos=set(ListaPrimos)  # Para acelerar búsqueda cuando no nos importa el orden."
   ]
  }
 ],
 "metadata": {
  "celltoolbar": "Raw Cell Format",
  "kernelspec": {
   "display_name": "Python 3",
   "language": "python",
   "name": "python3"
  },
  "language_info": {
   "codemirror_mode": {
    "name": "ipython",
    "version": 3
   },
   "file_extension": ".py",
   "mimetype": "text/x-python",
   "name": "python",
   "nbconvert_exporter": "python",
   "pygments_lexer": "ipython3",
   "version": "3.4.1"
  },
  "nikola": {
   "category": "",
   "date": "2015-09-01 18:31:17 UTC",
   "description": "",
   "link": "",
   "slug": "aritmeticapy",
   "tags": "",
   "title": "aritmetica.py",
   "type": "text"
  }
 },
 "nbformat": 4,
 "nbformat_minor": 0
}
